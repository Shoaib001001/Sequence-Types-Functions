{
 "cells": [
  {
   "cell_type": "markdown",
   "id": "44d04135",
   "metadata": {},
   "source": [
    "# 📖 Python Dictionaries – Complete Guide"
   ]
  },
  {
   "cell_type": "markdown",
   "id": "28a3d673",
   "metadata": {},
   "source": [
    "A **dictionary** in Python is a collection of key-value pairs. Dictionaries are:\n",
    "- **Unordered** (in Python versions < 3.7)\n",
    "- **Ordered** (since Python 3.7+)\n",
    "- **Mutable** – You can change, add, or delete elements\n",
    "- Keys must be **unique** and **immutable** (like strings, numbers, or tuples)"
   ]
  },
  {
   "cell_type": "markdown",
   "id": "3f4e7f2e",
   "metadata": {},
   "source": [
    "## 🔹 Creating a Dictionary"
   ]
  },
  {
   "cell_type": "code",
   "execution_count": null,
   "id": "9415539b",
   "metadata": {},
   "outputs": [],
   "source": [
    "# Creating an empty dictionary\n",
    "empty_dict = {}\n",
    "print(empty_dict)\n",
    "\n",
    "# Creating a dictionary with values\n",
    "person = {\n",
    "    'name': 'John',\n",
    "    'age': 30,\n",
    "    'city': 'New York'\n",
    "}\n",
    "print(person)"
   ]
  },
  {
   "cell_type": "markdown",
   "id": "cba439c2",
   "metadata": {},
   "source": [
    "## 🔹 Accessing Values"
   ]
  },
  {
   "cell_type": "code",
   "execution_count": null,
   "id": "2fec2fd8",
   "metadata": {},
   "outputs": [],
   "source": [
    "# Accessing values using keys\n",
    "print(person['name'])  # Output: John\n",
    "\n",
    "# Using get() method (returns None if key not found)\n",
    "print(person.get('age'))  # Output: 30\n",
    "print(person.get('country', 'Not Found'))  # Output: Not Found"
   ]
  },
  {
   "cell_type": "markdown",
   "id": "537bfa13",
   "metadata": {},
   "source": [
    "## 🔹 Adding and Updating Values"
   ]
  },
  {
   "cell_type": "code",
   "execution_count": null,
   "id": "280dead1",
   "metadata": {},
   "outputs": [],
   "source": [
    "# Adding a new key-value pair\n",
    "person['country'] = 'USA'\n",
    "print(person)\n",
    "\n",
    "# Updating an existing key\n",
    "person['age'] = 35\n",
    "print(person)"
   ]
  },
  {
   "cell_type": "markdown",
   "id": "c0c24db4",
   "metadata": {},
   "source": [
    "## 🔹 Removing Elements"
   ]
  },
  {
   "cell_type": "code",
   "execution_count": null,
   "id": "ce79e96a",
   "metadata": {},
   "outputs": [],
   "source": [
    "# Using pop() – removes key and returns value\n",
    "age = person.pop('age')\n",
    "print(age)\n",
    "print(person)\n",
    "\n",
    "# Using del – removes key (raises error if key not found)\n",
    "del person['city']\n",
    "print(person)\n",
    "\n",
    "# Using popitem() – removes and returns the last inserted key-value pair\n",
    "last_item = person.popitem()\n",
    "print(last_item)\n",
    "print(person)\n",
    "\n",
    "# Using clear() – removes all elements\n",
    "person.clear()\n",
    "print(person)"
   ]
  },
  {
   "cell_type": "markdown",
   "id": "ff539f8e",
   "metadata": {},
   "source": [
    "## 🔹 Checking Key Existence"
   ]
  },
  {
   "cell_type": "code",
   "execution_count": null,
   "id": "194a308a",
   "metadata": {},
   "outputs": [],
   "source": [
    "person = {'name': 'Alice', 'age': 25}\n",
    "if 'name' in person:\n",
    "    print('Name exists')\n",
    "else:\n",
    "    print('Name not found')"
   ]
  },
  {
   "cell_type": "markdown",
   "id": "56656a3f",
   "metadata": {},
   "source": [
    "## 🔹 Looping Through a Dictionary"
   ]
  },
  {
   "cell_type": "code",
   "execution_count": null,
   "id": "d40fb516",
   "metadata": {},
   "outputs": [],
   "source": [
    "# Looping through keys\n",
    "for key in person:\n",
    "    print(key)\n",
    "\n",
    "# Looping through values\n",
    "for value in person.values():\n",
    "    print(value)\n",
    "\n",
    "# Looping through key-value pairs\n",
    "for key, value in person.items():\n",
    "    print(f'{key}: {value}')"
   ]
  },
  {
   "cell_type": "markdown",
   "id": "3701b281",
   "metadata": {},
   "source": [
    "## 🔹 Useful Dictionary Methods"
   ]
  },
  {
   "cell_type": "code",
   "execution_count": null,
   "id": "5aa660ce",
   "metadata": {},
   "outputs": [],
   "source": [
    "# copy() – creates a shallow copy\n",
    "person_copy = person.copy()\n",
    "print(person_copy)\n",
    "\n",
    "# keys() – returns all keys\n",
    "print(person.keys())\n",
    "\n",
    "# values() – returns all values\n",
    "print(person.values())\n",
    "\n",
    "# items() – returns key-value pairs as tuples\n",
    "print(person.items())"
   ]
  },
  {
   "cell_type": "markdown",
   "id": "da8998fa",
   "metadata": {},
   "source": [
    "## 🔹 Nested Dictionaries"
   ]
  },
  {
   "cell_type": "code",
   "execution_count": null,
   "id": "f624f747",
   "metadata": {},
   "outputs": [],
   "source": [
    "family = {\n",
    "    'child1': {'name': 'Alice', 'age': 10},\n",
    "    'child2': {'name': 'Bob', 'age': 8}\n",
    "}\n",
    "print(family['child1']['name'])  # Output: Alice"
   ]
  },
  {
   "cell_type": "markdown",
   "id": "5f0fc5b5",
   "metadata": {},
   "source": [
    "## 🌍 Real-World Examples"
   ]
  },
  {
   "cell_type": "markdown",
   "id": "90370fa0",
   "metadata": {},
   "source": [
    "### 1. 📡 API Response"
   ]
  },
  {
   "cell_type": "code",
   "execution_count": null,
   "id": "6dec6473",
   "metadata": {},
   "outputs": [],
   "source": [
    "api_response = {\n",
    "    'status': 200,\n",
    "    'message': 'Success',\n",
    "    'data': {'id': 1, 'name': 'John Doe'}\n",
    "}\n",
    "print(api_response['data']['name'])  # Output: John Doe"
   ]
  },
  {
   "cell_type": "markdown",
   "id": "af79045d",
   "metadata": {},
   "source": [
    "### 2. 🏪 Inventory Management"
   ]
  },
  {
   "cell_type": "code",
   "execution_count": null,
   "id": "e3f9b898",
   "metadata": {},
   "outputs": [],
   "source": [
    "inventory = {\n",
    "    'apple': 50,\n",
    "    'banana': 30,\n",
    "    'orange': 20\n",
    "}\n",
    "# Updating inventory\n",
    "inventory['apple'] -= 10\n",
    "print(inventory)"
   ]
  },
  {
   "cell_type": "markdown",
   "id": "7561f16f",
   "metadata": {},
   "source": [
    "### 3. 👥 User Profiles"
   ]
  },
  {
   "cell_type": "code",
   "execution_count": null,
   "id": "7a948593",
   "metadata": {},
   "outputs": [],
   "source": [
    "users = {\n",
    "    'user1': {'name': 'Alice', 'age': 25},\n",
    "    'user2': {'name': 'Bob', 'age': 30}\n",
    "}\n",
    "print(users['user1']['name'])  # Output: Alice"
   ]
  },
  {
   "cell_type": "markdown",
   "id": "d0ed14e3",
   "metadata": {},
   "source": [
    "### 4. ⚙️ Configuration Settings"
   ]
  },
  {
   "cell_type": "code",
   "execution_count": null,
   "id": "2c43b72c",
   "metadata": {},
   "outputs": [],
   "source": [
    "settings = {\n",
    "    'theme': 'dark',\n",
    "    'language': 'English',\n",
    "    'notifications': True\n",
    "}\n",
    "print(settings['theme'])  # Output: dark"
   ]
  },
  {
   "cell_type": "markdown",
   "id": "95221fd8",
   "metadata": {},
   "source": [
    "## 🌟 Best Practices"
   ]
  },
  {
   "cell_type": "markdown",
   "id": "6b008cef",
   "metadata": {},
   "source": [
    "- Use dictionaries when data is structured as **key-value pairs**.\n",
    "- Keep keys **unique**.\n",
    "- Use `.get()` to avoid `KeyError` when accessing keys.\n",
    "- Use `copy()` to avoid modifying the original dictionary.\n",
    "- Avoid using mutable objects (like lists) as keys."
   ]
  },
  {
   "cell_type": "markdown",
   "id": "aafe84da",
   "metadata": {},
   "source": [
    "Dictionaries are one of the most powerful and flexible data structures in Python. They provide fast access, easy modification, and are ideal for representing structured data."
   ]
  }
 ],
 "metadata": {},
 "nbformat": 4,
 "nbformat_minor": 5
}
