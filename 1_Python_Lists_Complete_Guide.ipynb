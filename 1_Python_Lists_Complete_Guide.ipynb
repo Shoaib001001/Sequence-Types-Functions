{
 "cells": [
  {
   "cell_type": "markdown",
   "id": "552825bb",
   "metadata": {},
   "source": [
    "# 📖 Python Lists – Complete Guide"
   ]
  },
  {
   "cell_type": "markdown",
   "id": "d599ba60",
   "metadata": {},
   "source": [
    "A **list** in Python is a collection of ordered, mutable elements. Lists are:\n",
    "- **Ordered** – Elements have a defined order.\n",
    "- **Mutable** – You can modify the content (add, remove, change).\n",
    "- **Allow Duplicates** – Lists can store duplicate values.\n",
    "- **Can hold different data types** – Strings, integers, floats, etc., in the same list."
   ]
  },
  {
   "cell_type": "markdown",
   "id": "9838f59f",
   "metadata": {},
   "source": [
    "## 🔹 Creating a List"
   ]
  },
  {
   "cell_type": "code",
   "execution_count": null,
   "id": "44d00e3d",
   "metadata": {},
   "outputs": [],
   "source": [
    "# Creating an empty list\n",
    "empty_list = []\n",
    "print(empty_list)\n",
    "\n",
    "# Creating a list with values\n",
    "fruits = ['apple', 'banana', 'orange']\n",
    "print(fruits)\n",
    "\n",
    "# Mixed data types\n",
    "mixed = [1, 'hello', 3.5, True]\n",
    "print(mixed)"
   ]
  },
  {
   "cell_type": "markdown",
   "id": "19e58f06",
   "metadata": {},
   "source": [
    "## 🔹 Accessing Elements"
   ]
  },
  {
   "cell_type": "code",
   "execution_count": null,
   "id": "9fe2b822",
   "metadata": {},
   "outputs": [],
   "source": [
    "# Accessing by index\n",
    "print(fruits[0])  # Output: apple\n",
    "print(fruits[-1])  # Output: orange\n",
    "\n",
    "# Slicing\n",
    "print(fruits[0:2])  # Output: ['apple', 'banana']"
   ]
  },
  {
   "cell_type": "markdown",
   "id": "14753359",
   "metadata": {},
   "source": [
    "## 🔹 Modifying Elements"
   ]
  },
  {
   "cell_type": "code",
   "execution_count": null,
   "id": "77759746",
   "metadata": {},
   "outputs": [],
   "source": [
    "# Changing an element\n",
    "fruits[1] = 'blueberry'\n",
    "print(fruits)\n",
    "\n",
    "# Adding an element using append()\n",
    "fruits.append('kiwi')\n",
    "print(fruits)\n",
    "\n",
    "# Inserting at a specific index using insert()\n",
    "fruits.insert(1, 'mango')\n",
    "print(fruits)"
   ]
  },
  {
   "cell_type": "markdown",
   "id": "7b923ac2",
   "metadata": {},
   "source": [
    "## 🔹 Removing Elements"
   ]
  },
  {
   "cell_type": "code",
   "execution_count": null,
   "id": "7a94fcb0",
   "metadata": {},
   "outputs": [],
   "source": [
    "# Using remove()\n",
    "fruits.remove('apple')\n",
    "print(fruits)\n",
    "\n",
    "# Using pop() – removes by index and returns the value\n",
    "removed = fruits.pop(1)\n",
    "print(removed)\n",
    "print(fruits)\n",
    "\n",
    "# Using del – removes by index\n",
    "del fruits[0]\n",
    "print(fruits)\n",
    "\n",
    "# Using clear() – removes all elements\n",
    "fruits.clear()\n",
    "print(fruits)"
   ]
  },
  {
   "cell_type": "markdown",
   "id": "d42ecd6c",
   "metadata": {},
   "source": [
    "## 🔹 List Operations"
   ]
  },
  {
   "cell_type": "code",
   "execution_count": null,
   "id": "3880a0b1",
   "metadata": {},
   "outputs": [],
   "source": [
    "# Concatenation\n",
    "a = [1, 2, 3]\n",
    "b = [4, 5, 6]\n",
    "c = a + b\n",
    "print(c)\n",
    "\n",
    "# Repeating elements\n",
    "repeated = a * 2\n",
    "print(repeated)"
   ]
  },
  {
   "cell_type": "markdown",
   "id": "45d43422",
   "metadata": {},
   "source": [
    "## 🔹 Looping Through a List"
   ]
  },
  {
   "cell_type": "code",
   "execution_count": null,
   "id": "142cbc1d",
   "metadata": {},
   "outputs": [],
   "source": [
    "fruits = ['apple', 'banana', 'orange']\n",
    "# Looping through values\n",
    "for fruit in fruits:\n",
    "    print(fruit)\n",
    "\n",
    "# Looping with index using enumerate\n",
    "for index, fruit in enumerate(fruits):\n",
    "    print(f'{index}: {fruit}')"
   ]
  },
  {
   "cell_type": "markdown",
   "id": "c6447a6a",
   "metadata": {},
   "source": [
    "## 🔹 List Comprehensions"
   ]
  },
  {
   "cell_type": "code",
   "execution_count": null,
   "id": "66d57d00",
   "metadata": {},
   "outputs": [],
   "source": [
    "# Creating a list using list comprehension\n",
    "squares = [x**2 for x in range(10)]\n",
    "print(squares)\n",
    "\n",
    "# Filtering using list comprehension\n",
    "even_squares = [x**2 for x in range(10) if x % 2 == 0]\n",
    "print(even_squares)"
   ]
  },
  {
   "cell_type": "markdown",
   "id": "e2b3b4bc",
   "metadata": {},
   "source": [
    "## 🔹 Useful List Methods"
   ]
  },
  {
   "cell_type": "code",
   "execution_count": null,
   "id": "37412759",
   "metadata": {},
   "outputs": [],
   "source": [
    "# count() – returns the number of times an element appears\n",
    "numbers = [1, 2, 2, 3, 4, 2]\n",
    "print(numbers.count(2))\n",
    "\n",
    "# index() – returns the index of the first occurrence\n",
    "print(numbers.index(3))\n",
    "\n",
    "# reverse() – reverses the list\n",
    "numbers.reverse()\n",
    "print(numbers)\n",
    "\n",
    "# sort() – sorts the list (ascending order)\n",
    "numbers.sort()\n",
    "print(numbers)\n",
    "\n",
    "# extend() – adds elements from another list\n",
    "numbers.extend([5, 6])\n",
    "print(numbers)"
   ]
  },
  {
   "cell_type": "markdown",
   "id": "55ac9514",
   "metadata": {},
   "source": [
    "## 🔹 Nested Lists"
   ]
  },
  {
   "cell_type": "code",
   "execution_count": null,
   "id": "eb3ce6cc",
   "metadata": {},
   "outputs": [],
   "source": [
    "matrix = [\n",
    "    [1, 2, 3],\n",
    "    [4, 5, 6],\n",
    "    [7, 8, 9]\n",
    "]\n",
    "print(matrix[1][2])  # Output: 6"
   ]
  },
  {
   "cell_type": "markdown",
   "id": "15117df8",
   "metadata": {},
   "source": [
    "## 🌍 Real-World Examples"
   ]
  },
  {
   "cell_type": "markdown",
   "id": "d926ec9c",
   "metadata": {},
   "source": [
    "### 1. 📝 To-Do List"
   ]
  },
  {
   "cell_type": "code",
   "execution_count": null,
   "id": "cec7eb35",
   "metadata": {},
   "outputs": [],
   "source": [
    "tasks = ['Email client', 'Write report', 'Call John']\n",
    "tasks.append('Meeting at 4 PM')\n",
    "tasks.remove('Email client')\n",
    "print(tasks)"
   ]
  },
  {
   "cell_type": "markdown",
   "id": "5b4f86a0",
   "metadata": {},
   "source": [
    "### 2. 🏆 Student Scores"
   ]
  },
  {
   "cell_type": "code",
   "execution_count": null,
   "id": "174774ad",
   "metadata": {},
   "outputs": [],
   "source": [
    "scores = [90, 85, 88, 92]\n",
    "average = sum(scores) / len(scores)\n",
    "print(f'Average Score: {average}')"
   ]
  },
  {
   "cell_type": "markdown",
   "id": "6250a84c",
   "metadata": {},
   "source": [
    "### 3. 🛒 E-commerce Cart"
   ]
  },
  {
   "cell_type": "code",
   "execution_count": null,
   "id": "e7e150f4",
   "metadata": {},
   "outputs": [],
   "source": [
    "cart = ['T-shirt', 'Jeans', 'Shoes']\n",
    "cart.append('Hat')\n",
    "cart.remove('Jeans')\n",
    "print(cart)"
   ]
  },
  {
   "cell_type": "markdown",
   "id": "218b7f3f",
   "metadata": {},
   "source": [
    "## 🌟 Best Practices"
   ]
  },
  {
   "cell_type": "markdown",
   "id": "2e51a706",
   "metadata": {},
   "source": [
    "- Use lists for **ordered collections**.\n",
    "- Use `.append()` to add elements at the end.\n",
    "- Use `.remove()` or `del` to delete elements.\n",
    "- Use list comprehensions for cleaner and faster code.\n",
    "- Avoid using lists when data needs to be constant (use tuples instead)."
   ]
  },
  {
   "cell_type": "markdown",
   "id": "e32fb0e7",
   "metadata": {},
   "source": [
    "Lists are one of the most versatile and widely used data structures in Python. Mastering them will make your Python programming more effective and efficient."
   ]
  }
 ],
 "metadata": {},
 "nbformat": 4,
 "nbformat_minor": 5
}
