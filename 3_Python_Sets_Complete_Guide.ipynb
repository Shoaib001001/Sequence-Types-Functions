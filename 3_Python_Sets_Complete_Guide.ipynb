{
 "cells": [
  {
   "cell_type": "markdown",
   "id": "28ddcbad",
   "metadata": {},
   "source": [
    "# 🐍 Python Sets Complete Guide"
   ]
  },
  {
   "cell_type": "markdown",
   "id": "5cbd4fb1",
   "metadata": {},
   "source": [
    "A **set** is a **collection of unique, unordered elements** in Python."
   ]
  },
  {
   "cell_type": "markdown",
   "id": "8e3d5907",
   "metadata": {},
   "source": [
    "## ✅ Key Properties of Sets:\n",
    "- **Unordered** – The elements in a set have no defined order.\n",
    "- **Unique** – A set cannot have duplicate elements.\n",
    "- **Mutable** – You can add or remove elements from a set.\n",
    "- **Heterogeneous** – A set can store elements of different types (like integers, strings, floats, etc.)."
   ]
  },
  {
   "cell_type": "markdown",
   "id": "598aa5ef",
   "metadata": {},
   "source": [
    "## 📌 Creating a Set"
   ]
  },
  {
   "cell_type": "code",
   "execution_count": null,
   "id": "2f00f03b",
   "metadata": {},
   "outputs": [],
   "source": [
    "fruits = {'apple', 'banana', 'cherry'}\n",
    "print(fruits)"
   ]
  },
  {
   "cell_type": "code",
   "execution_count": null,
   "id": "376201c5",
   "metadata": {},
   "outputs": [],
   "source": [
    "numbers = set([1, 2, 3, 4, 4, 5])\n",
    "print(numbers)"
   ]
  },
  {
   "cell_type": "markdown",
   "id": "69f6a7a3",
   "metadata": {},
   "source": [
    "> **Note:** An empty `{}` creates a dictionary. Use `set()` to create an empty set."
   ]
  },
  {
   "cell_type": "code",
   "execution_count": null,
   "id": "9e847155",
   "metadata": {},
   "outputs": [],
   "source": [
    "empty_set = set()\n",
    "print(empty_set)"
   ]
  },
  {
   "cell_type": "markdown",
   "id": "315b4040",
   "metadata": {},
   "source": [
    "## 🚀 Real-Life Example"
   ]
  },
  {
   "cell_type": "code",
   "execution_count": null,
   "id": "ff4a779a",
   "metadata": {},
   "outputs": [],
   "source": [
    "purchased_items = ['apple', 'banana', 'apple', 'orange', 'banana']\n",
    "unique_items = set(purchased_items)\n",
    "print(unique_items)"
   ]
  },
  {
   "cell_type": "markdown",
   "id": "5691e50d",
   "metadata": {},
   "source": [
    "## 1️⃣ Adding Elements\n",
    "Use `add()` to add a single element to the set:"
   ]
  },
  {
   "cell_type": "code",
   "execution_count": null,
   "id": "022ba00f",
   "metadata": {},
   "outputs": [],
   "source": [
    "fruits = {'apple', 'banana'}\n",
    "fruits.add('cherry')\n",
    "print(fruits)"
   ]
  },
  {
   "cell_type": "markdown",
   "id": "17ea902c",
   "metadata": {},
   "source": [
    "## 2️⃣ Updating a Set\n",
    "Use `update()` to add multiple elements:"
   ]
  },
  {
   "cell_type": "code",
   "execution_count": null,
   "id": "5689c410",
   "metadata": {},
   "outputs": [],
   "source": [
    "fruits = {'apple', 'banana'}\n",
    "fruits.update(['mango', 'grape'])\n",
    "print(fruits)"
   ]
  },
  {
   "cell_type": "markdown",
   "id": "56a1f5ab",
   "metadata": {},
   "source": [
    "## 3️⃣ Removing Elements\n",
    "- `remove()` – Removes an element, raises an error if the element is not found.\n",
    "- `discard()` – Removes an element, but does **NOT** raise an error if the element is missing.\n",
    "- `pop()` – Removes and returns a random element since sets are unordered.\n",
    "- `clear()` – Removes all elements from the set."
   ]
  },
  {
   "cell_type": "code",
   "execution_count": null,
   "id": "88f78afa",
   "metadata": {},
   "outputs": [],
   "source": [
    "fruits = {'apple', 'banana', 'cherry'}\n",
    "fruits.remove('banana')\n",
    "print(fruits)"
   ]
  },
  {
   "cell_type": "code",
   "execution_count": null,
   "id": "630728ee",
   "metadata": {},
   "outputs": [],
   "source": [
    "fruits.discard('mango')\n",
    "print(fruits)"
   ]
  },
  {
   "cell_type": "code",
   "execution_count": null,
   "id": "17c7548d",
   "metadata": {},
   "outputs": [],
   "source": [
    "removed = fruits.pop()\n",
    "print(removed)\n",
    "print(fruits)"
   ]
  },
  {
   "cell_type": "code",
   "execution_count": null,
   "id": "8136ffbc",
   "metadata": {},
   "outputs": [],
   "source": [
    "fruits.clear()\n",
    "print(fruits)"
   ]
  },
  {
   "cell_type": "markdown",
   "id": "32d1b10b",
   "metadata": {},
   "source": [
    "## 4️⃣ Set Operations\n",
    "- **Union (`|`)** – Combines elements from both sets.\n",
    "- **Intersection (`&`)** – Returns common elements.\n",
    "- **Difference (`-`)** – Returns elements in one set but not in the other.\n",
    "- **Symmetric Difference (`^`)** – Returns elements in either set, but not both."
   ]
  },
  {
   "cell_type": "code",
   "execution_count": null,
   "id": "2b4a1f04",
   "metadata": {},
   "outputs": [],
   "source": [
    "A = {1, 2, 3, 4}\n",
    "B = {3, 4, 5, 6}\n",
    "print(A | B)   # Union\n",
    "print(A & B)   # Intersection\n",
    "print(A - B)   # Difference\n",
    "print(A ^ B)   # Symmetric Difference"
   ]
  },
  {
   "cell_type": "markdown",
   "id": "a4dd4614",
   "metadata": {},
   "source": [
    "## 5️⃣ Set Comparison\n",
    "- `issubset()` – Checks if all elements of one set are present in another set.\n",
    "- `issuperset()` – Checks if a set contains all elements of another set.\n",
    "- `isdisjoint()` – Checks if two sets have no common elements."
   ]
  },
  {
   "cell_type": "code",
   "execution_count": null,
   "id": "86c81a0e",
   "metadata": {},
   "outputs": [],
   "source": [
    "A = {1, 2, 3}\n",
    "B = {2, 3}\n",
    "C = {4, 5}\n",
    "print(B.issubset(A))\n",
    "print(A.issuperset(B))\n",
    "print(A.isdisjoint(C))"
   ]
  },
  {
   "cell_type": "markdown",
   "id": "e5a169c0",
   "metadata": {},
   "source": [
    "## 6️⃣ Copying a Set\n",
    "Use `copy()` to create a new set with the same elements:"
   ]
  },
  {
   "cell_type": "code",
   "execution_count": null,
   "id": "5058bc6e",
   "metadata": {},
   "outputs": [],
   "source": [
    "A = {1, 2, 3}\n",
    "B = A.copy()\n",
    "print(B)"
   ]
  },
  {
   "cell_type": "markdown",
   "id": "e4b694f4",
   "metadata": {},
   "source": [
    "## 7️⃣ Clearing a Set\n",
    "Use `clear()` to remove all elements from a set:"
   ]
  },
  {
   "cell_type": "code",
   "execution_count": null,
   "id": "6ff02cdd",
   "metadata": {},
   "outputs": [],
   "source": [
    "A = {1, 2, 3}\n",
    "A.clear()\n",
    "print(A)"
   ]
  },
  {
   "cell_type": "markdown",
   "id": "8d67550d",
   "metadata": {},
   "source": [
    "## 🌍 Real-World Use Cases"
   ]
  },
  {
   "cell_type": "code",
   "execution_count": null,
   "id": "4bcb1b48",
   "metadata": {},
   "outputs": [],
   "source": [
    "# Removing duplicates from a list\n",
    "names = ['John', 'Mary', 'John', 'Anna']\n",
    "unique_names = set(names)\n",
    "print(unique_names)"
   ]
  },
  {
   "cell_type": "code",
   "execution_count": null,
   "id": "7e2e9779",
   "metadata": {},
   "outputs": [],
   "source": [
    "# Finding common interests\n",
    "person1_hobbies = {'reading', 'swimming', 'coding'}\n",
    "person2_hobbies = {'reading', 'gaming', 'coding'}\n",
    "common_hobbies = person1_hobbies & person2_hobbies\n",
    "print(common_hobbies)"
   ]
  },
  {
   "cell_type": "code",
   "execution_count": null,
   "id": "7132634c",
   "metadata": {},
   "outputs": [],
   "source": [
    "# Checking for unique usernames\n",
    "usernames = {'john123', 'alex88', 'john123'}\n",
    "print(usernames)"
   ]
  },
  {
   "cell_type": "markdown",
   "id": "0b520f1d",
   "metadata": {},
   "source": [
    "## ✅ Summary Table\n",
    "| Operation | Method | Example | Result |\n",
    "|-----------|--------|---------|--------|\n",
    "| Add element | `add()` | `A.add(5)` | Adds 5 to set |\n",
    "| Add multiple elements | `update()` | `A.update([5, 6])` | Adds 5 and 6 to set |\n",
    "| Remove element | `remove()` | `A.remove(2)` | Removes 2, raises error if missing |\n",
    "| Remove element | `discard()` | `A.discard(2)` | Removes 2, no error if missing |\n",
    "| Pop element | `pop()` | `A.pop()` | Removes and returns random element |\n",
    "| Union | `union()` or `|` | `A | B` | Combines elements |\n",
    "| Intersection | `intersection()` or `&` | `A & B` | Common elements |\n",
    "| Difference | `difference()` or `-` | `A - B` | Elements in A but not in B |\n",
    "| Symmetric Difference | `symmetric_difference()` or `^` | `A ^ B` | Elements in A or B, not both |\n",
    "| Subset Check | `issubset()` | `A.issubset(B)` | True/False |\n",
    "| Superset Check | `issuperset()` | `A.issuperset(B)` | True/False |\n",
    "| Disjoint Check | `isdisjoint()` | `A.isdisjoint(B)` | True/False |\n"
   ]
  },
  {
   "cell_type": "markdown",
   "id": "9bdf79ef",
   "metadata": {},
   "source": [
    "## ⚠️ Important Notes\n",
    "✔️ Sets are **unordered** → No indexing or slicing.\n",
    "✔️ Sets are **mutable** → You can add or remove elements.\n",
    "✔️ Sets cannot have **duplicate values**.\n",
    "✔️ Sets can store **different data types** but **not mutable types** like lists or dictionaries.\n"
   ]
  }
 ],
 "metadata": {},
 "nbformat": 4,
 "nbformat_minor": 5
}