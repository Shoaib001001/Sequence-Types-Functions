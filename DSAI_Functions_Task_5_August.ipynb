{
  "cells": [
    {
      "cell_type": "code",
      "execution_count": null,
      "id": "e6d66e06",
      "metadata": {
        "id": "e6d66e06"
      },
      "outputs": [],
      "source": [
        "# Pass Statement\n",
        "def my_func():\n",
        "    pass"
      ]
    },
    {
      "cell_type": "markdown",
      "id": "05820817",
      "metadata": {
        "id": "05820817"
      },
      "source": [
        "## Default Parameters"
      ]
    },
    {
      "cell_type": "code",
      "execution_count": null,
      "id": "fa30f202",
      "metadata": {
        "id": "fa30f202",
        "outputId": "78dfdae8-07e4-40a4-ced5-a4664b666529"
      },
      "outputs": [
        {
          "name": "stdout",
          "output_type": "stream",
          "text": [
            "{'first': 'Akbar', 'last': 'Hussain'}\n"
          ]
        }
      ],
      "source": [
        "def build_person(first_name, last_name, age=None):\n",
        "    \"\"\"Return a dictionary of information about a person.\"\"\"\n",
        "    person = {'first': first_name, 'last': last_name}\n",
        "    if age:\n",
        "        person['age'] = age\n",
        "    return person\n",
        "\n",
        "musician = build_person('Akbar',\"Hussain\")\n",
        "print(musician)\n"
      ]
    },
    {
      "cell_type": "code",
      "execution_count": null,
      "id": "898bbedf",
      "metadata": {
        "id": "898bbedf",
        "outputId": "6fce1eaf-dc72-4dc6-9c29-670c88a3a8a6"
      },
      "outputs": [
        {
          "name": "stdout",
          "output_type": "stream",
          "text": [
            "Hello saboor welcome to gilgit\n"
          ]
        }
      ],
      "source": [
        "def greeting(name=\"wasif\"):\n",
        "    print(f\"Hello {name} welcome to gilgit\")\n",
        "greeting(\"saboor\")"
      ]
    },
    {
      "cell_type": "markdown",
      "id": "27855b3c",
      "metadata": {
        "id": "27855b3c"
      },
      "source": [
        "# Varibale Argument"
      ]
    },
    {
      "cell_type": "markdown",
      "id": "0cceeab5",
      "metadata": {
        "id": "0cceeab5"
      },
      "source": [
        "## Positional Argument\n",
        "when we requied more than 1 arguments"
      ]
    },
    {
      "cell_type": "code",
      "execution_count": null,
      "id": "138eaa0c",
      "metadata": {
        "id": "138eaa0c",
        "outputId": "35e10f0d-160f-46ca-bc65-2dd4142121a7"
      },
      "outputs": [
        {
          "data": {
            "text/plain": [
              "74"
            ]
          },
          "execution_count": 6,
          "metadata": {},
          "output_type": "execute_result"
        }
      ],
      "source": [
        "def add_numbers(*args):\n",
        "    sum=0\n",
        "    for numbers in args:\n",
        "        sum+=numbers\n",
        "    return sum\n",
        "add_numbers(12,34,5,6,8,9)"
      ]
    },
    {
      "cell_type": "code",
      "execution_count": null,
      "id": "86503515",
      "metadata": {
        "id": "86503515",
        "outputId": "83a25951-408b-42aa-93b9-bcf22160c9ab"
      },
      "outputs": [
        {
          "name": "stdout",
          "output_type": "stream",
          "text": [
            "12\n",
            "34\n",
            "5\n",
            "6\n",
            "8\n",
            "9\n"
          ]
        }
      ],
      "source": [
        "def add_numbers(*args):\n",
        "    for numbers in args:\n",
        "        print(numbers)\n",
        "add_numbers(12,34,5,6,8,9)"
      ]
    },
    {
      "cell_type": "markdown",
      "id": "1b05f05c",
      "metadata": {
        "id": "1b05f05c"
      },
      "source": [
        "## Keyword Parameters\n",
        "all the values must be in keys and values pairs"
      ]
    },
    {
      "cell_type": "code",
      "execution_count": null,
      "id": "8c2958ad",
      "metadata": {
        "id": "8c2958ad",
        "outputId": "699aa326-845d-41fc-b126-121a595e4718"
      },
      "outputs": [
        {
          "name": "stdout",
          "output_type": "stream",
          "text": [
            "XYZ:name\n",
            "ABC:Address\n",
            "FGH:education\n"
          ]
        }
      ],
      "source": [
        "def print_details(**kwargs):\n",
        "    for value,key in kwargs.items():\n",
        "        print(f'{key}:{value}')\n",
        "print_details(name=\"XYZ\",Address=\"ABC\",education=\"FGH\")"
      ]
    },
    {
      "cell_type": "markdown",
      "id": "6efd8449",
      "metadata": {
        "id": "6efd8449"
      },
      "source": [
        "# Filter Function()"
      ]
    },
    {
      "cell_type": "code",
      "execution_count": null,
      "id": "505ef8c1",
      "metadata": {
        "id": "505ef8c1",
        "outputId": "1d67c5f5-a548-4c3f-f5e6-59bf51e85729"
      },
      "outputs": [
        {
          "data": {
            "text/plain": [
              "[12, 4, 6, 78, 2]"
            ]
          },
          "execution_count": 1,
          "metadata": {},
          "output_type": "execute_result"
        }
      ],
      "source": [
        "def even(num):\n",
        "    if num%2==0:\n",
        "        return True\n",
        "\n",
        "lst=[12,3,4,6,78,2,1,7,9,3,5]\n",
        "list(filter(even,lst))\n"
      ]
    },
    {
      "cell_type": "markdown",
      "id": "8e9521d8",
      "metadata": {
        "id": "8e9521d8"
      },
      "source": [
        "# Passing List"
      ]
    },
    {
      "cell_type": "code",
      "execution_count": null,
      "id": "6ff3e966",
      "metadata": {
        "id": "6ff3e966",
        "outputId": "f9131c44-290d-473f-ab3e-c7bce34fd418"
      },
      "outputs": [
        {
          "name": "stdout",
          "output_type": "stream",
          "text": [
            "apple\n",
            "banana\n",
            "cherry\n"
          ]
        }
      ],
      "source": [
        "def my_function(food):\n",
        "  for x in food:\n",
        "    print(x)\n",
        "\n",
        "fruits = [\"apple\", \"banana\", \"cherry\"]\n",
        "\n",
        "my_function(fruits)"
      ]
    },
    {
      "cell_type": "code",
      "execution_count": null,
      "id": "45c9927f",
      "metadata": {
        "id": "45c9927f",
        "outputId": "306e4914-f7d3-429d-81a7-2ba0e2deeb1f"
      },
      "outputs": [
        {
          "name": "stdout",
          "output_type": "stream",
          "text": [
            "apple\n",
            "banana\n",
            "cherry\n"
          ]
        }
      ],
      "source": [
        "## Passing tuple\n",
        "def my_function(food):\n",
        "  for x in food:\n",
        "    print(x)\n",
        "\n",
        "fruits = (\"apple\", \"banana\", \"cherry\")\n",
        "\n",
        "my_function(fruits)"
      ]
    },
    {
      "cell_type": "markdown",
      "id": "4c893554",
      "metadata": {
        "id": "4c893554"
      },
      "source": [
        "# Lambda Function"
      ]
    },
    {
      "cell_type": "code",
      "execution_count": null,
      "id": "65643c88",
      "metadata": {
        "id": "65643c88"
      },
      "outputs": [],
      "source": [
        "#anonymous function which have number of arguments but have only a expression\n",
        "#function without name\n",
        "#lambda arguments : expression"
      ]
    },
    {
      "cell_type": "code",
      "execution_count": null,
      "id": "b51172d1",
      "metadata": {
        "id": "b51172d1",
        "outputId": "4c289c33-e51e-4782-e6c6-4c9b45b68fd8"
      },
      "outputs": [
        {
          "data": {
            "text/plain": [
              "46"
            ]
          },
          "execution_count": 3,
          "metadata": {},
          "output_type": "execute_result"
        }
      ],
      "source": [
        "def add(a,b):\n",
        "    return a+b\n",
        "add(12,34)"
      ]
    },
    {
      "cell_type": "code",
      "execution_count": null,
      "id": "49dda39d",
      "metadata": {
        "id": "49dda39d"
      },
      "outputs": [],
      "source": [
        "addition =lambda a,b: a+b"
      ]
    },
    {
      "cell_type": "code",
      "execution_count": null,
      "id": "d6932850",
      "metadata": {
        "id": "d6932850",
        "outputId": "2b465aa3-6766-4d83-d6d3-849be841201c"
      },
      "outputs": [
        {
          "name": "stdout",
          "output_type": "stream",
          "text": [
            "46\n"
          ]
        }
      ],
      "source": [
        "print(addition(12,34))"
      ]
    },
    {
      "cell_type": "code",
      "execution_count": null,
      "id": "017656aa",
      "metadata": {
        "id": "017656aa",
        "outputId": "698189f6-a1d2-44ee-fd84-7357e6d0b4d7"
      },
      "outputs": [
        {
          "data": {
            "text/plain": [
              "False"
            ]
          },
          "execution_count": 10,
          "metadata": {},
          "output_type": "execute_result"
        }
      ],
      "source": [
        "even = lambda x: x%2==0\n",
        "even(13)"
      ]
    },
    {
      "cell_type": "markdown",
      "id": "3e5526b5",
      "metadata": {
        "id": "3e5526b5"
      },
      "source": [
        "# Map Function"
      ]
    },
    {
      "cell_type": "code",
      "execution_count": null,
      "id": "f39a09a8",
      "metadata": {
        "id": "f39a09a8",
        "outputId": "5f280934-d4b4-43ff-e0e5-c723387aec0a"
      },
      "outputs": [
        {
          "data": {
            "text/plain": [
              "[True, None, True, None, None, True, True]"
            ]
          },
          "execution_count": 3,
          "metadata": {},
          "output_type": "execute_result"
        }
      ],
      "source": [
        "# will apply the function to whole input\n",
        "def even(num):\n",
        "    if num%2==0:\n",
        "        return True\n",
        "lst=[12,3,4,67,23,78,12,]\n",
        "list(map(even,lst))"
      ]
    },
    {
      "cell_type": "code",
      "execution_count": null,
      "id": "d0eb8958",
      "metadata": {
        "id": "d0eb8958",
        "outputId": "5a47294d-4970-4a2f-d936-6083b7535028"
      },
      "outputs": [
        {
          "data": {
            "text/plain": [
              "[12, 4, 6, 78, 2]"
            ]
          },
          "execution_count": 7,
          "metadata": {},
          "output_type": "execute_result"
        }
      ],
      "source": [
        "#Filter Function\n",
        "\n",
        "def even(num):\n",
        "    if num%2==0:\n",
        "        return True\n",
        "\n",
        "lst=[12,3,4,6,78,2,1,7,9,3,5]\n",
        "list(filter(even,lst))\n"
      ]
    },
    {
      "cell_type": "code",
      "execution_count": null,
      "id": "5936371c",
      "metadata": {
        "id": "5936371c",
        "outputId": "349bc8b1-3863-43d8-f6ea-7fdfa0f90b40"
      },
      "outputs": [
        {
          "name": "stdout",
          "output_type": "stream",
          "text": [
            "[12, 4, 6, 78, 2]\n"
          ]
        }
      ],
      "source": [
        "lst = [12, 3, 4, 6, 78, 2, 1, 7, 9, 3, 5]\n",
        "even_numbers = []\n",
        "\n",
        "for num in lst:\n",
        "    if (lambda x: x % 2 == 0)(num):\n",
        "        even_numbers.append(num)\n",
        "\n",
        "print(even_numbers)\n"
      ]
    },
    {
      "cell_type": "code",
      "execution_count": null,
      "id": "c3837213",
      "metadata": {
        "id": "c3837213",
        "outputId": "02cd3ba1-e1ff-49fa-b6fb-80692c1eaf36"
      },
      "outputs": [
        {
          "name": "stdout",
          "output_type": "stream",
          "text": [
            "Enter the value12\n",
            "Enter the value13\n",
            "Enter the value14\n",
            "12 13 14\n"
          ]
        }
      ],
      "source": [
        "def input_no(a,b,c):\n",
        "    a=int(input(\"Enter the value\"))\n",
        "    b=int(input(\"Enter the value\"))\n",
        "    c=int(input(\"Enter the value\"))\n",
        "    print(a,b,c)\n",
        "input_no(10,23,56)"
      ]
    },
    {
      "cell_type": "code",
      "execution_count": null,
      "id": "e85508e2",
      "metadata": {
        "id": "e85508e2",
        "outputId": "942324eb-f8f6-4b56-a9d5-7340cd8dd271"
      },
      "outputs": [
        {
          "data": {
            "text/plain": [
              "False"
            ]
          },
          "execution_count": 6,
          "metadata": {},
          "output_type": "execute_result"
        }
      ],
      "source": [
        "def add_numbers(*args):\n",
        "    for numbers in args:\n",
        "        if numbers%2==0:\n",
        "            return True\n",
        "        else:\n",
        "            return False\n"
      ]
    },
    {
      "cell_type": "code",
      "execution_count": null,
      "id": "f0eb6eef",
      "metadata": {
        "id": "f0eb6eef",
        "outputId": "7a90b0a7-9786-4887-cf6a-b756ce38c539"
      },
      "outputs": [
        {
          "data": {
            "text/plain": [
              "[True, None, True, None, True]"
            ]
          },
          "execution_count": 10,
          "metadata": {},
          "output_type": "execute_result"
        }
      ],
      "source": [
        "def vowel_checker(*args):\n",
        "    for i in args:\n",
        "        if i==\"a\" or i==\"A\" or i==\"i\" or i==\"I\" or i==\"o\" or i==\"O\" or i==\"u\" or i==\"U\" or i==\"e\" or i==\"E\":\n",
        "            return True\n",
        "var_1=['a','b','E','p','O']\n",
        "list(map(vowel_checker,var_1))"
      ]
    },
    {
      "cell_type": "code",
      "execution_count": null,
      "id": "0a512101",
      "metadata": {
        "id": "0a512101",
        "outputId": "c1a5aa40-47ea-410a-d700-b0d1e8c0a570"
      },
      "outputs": [
        {
          "name": "stdout",
          "output_type": "stream",
          "text": [
            "Upper-case: HELLO, OPENAI! OPENAI IS AWESOME.\n",
            "Lower-case: hello, openai! openai is awesome.\n",
            "Find 'OpenAI': 7\n",
            "Index of 'OpenAI': 7\n",
            "Count 'OpenAI': 2\n",
            "Joined string: Hello from OpenAI\n",
            "Is numeric: True\n",
            "Is alpha-numeric: True\n",
            "Split string: ['Hello,', 'OpenAI!', 'OpenAI', 'is', 'awesome.']\n",
            "Replaced text: Hello, ChatGPT! ChatGPT is awesome.\n"
          ]
        }
      ],
      "source": [
        "# Example string\n",
        "text = \"Hello, OpenAI! OpenAI is awesome.\"\n",
        "\n",
        "# upper() - Converts to upper-case\n",
        "upper_text = text.upper()\n",
        "print(\"Upper-case:\", upper_text)\n",
        "\n",
        "# lower() - Converts to lower-case\n",
        "lower_text = text.lower()\n",
        "print(\"Lower-case:\", lower_text)\n",
        "\n",
        "# find() - Finds a substring in a string: returns starting index\n",
        "find_index = text.find(\"OpenAI\")\n",
        "print(\"Find 'OpenAI':\", find_index)\n",
        "\n",
        "# index() - Finds starting index of a substring\n",
        "index_index = text.index(\"OpenAI\")\n",
        "print(\"Index of 'OpenAI':\", index_index)\n",
        "\n",
        "# count() - Counts the number of occurrences of a substring\n",
        "count_openai = text.count(\"OpenAI\")\n",
        "print(\"Count 'OpenAI':\", count_openai)\n",
        "\n",
        "# join() - Used to join string of an iterable containing strings\n",
        "list_of_strings = [\"Hello\", \"from\", \"OpenAI\"]\n",
        "joined_string = \" \".join(list_of_strings)\n",
        "print(\"Joined string:\", joined_string)\n",
        "\n",
        "# isnumeric() - Used to check if a string is a number\n",
        "num_string = \"12345\"\n",
        "is_num = num_string.isnumeric()\n",
        "print(\"Is numeric:\", is_num)\n",
        "\n",
        "# isalnum() - Used to check if a string is alpha-numeric\n",
        "alnum_string = \"OpenAI2024\"\n",
        "is_alnum = alnum_string.isalnum()\n",
        "print(\"Is alpha-numeric:\", is_alnum)\n",
        "\n",
        "# split() - Used to split a string to a list\n",
        "split_text = text.split()\n",
        "print(\"Split string:\", split_text)\n",
        "\n",
        "# replace() - Replaces a string with another string\n",
        "replaced_text = text.replace(\"OpenAI\", \"ChatGPT\")\n",
        "print(\"Replaced text:\", replaced_text)\n"
      ]
    },
    {
      "cell_type": "code",
      "execution_count": null,
      "id": "9a274e6e",
      "metadata": {
        "id": "9a274e6e",
        "outputId": "2412e9ff-a8d6-42e3-a41c-da453ca1d313"
      },
      "outputs": [
        {
          "name": "stdout",
          "output_type": "stream",
          "text": [
            "Find 'OpenAI': 7\n"
          ]
        }
      ],
      "source": [
        "find_index = text.find(\"OpenAI\")\n",
        "print(\"Find 'OpenAI':\", find_index)"
      ]
    },
    {
      "cell_type": "markdown",
      "id": "394e1a00",
      "metadata": {
        "id": "394e1a00"
      },
      "source": [
        "# find()"
      ]
    },
    {
      "cell_type": "code",
      "execution_count": null,
      "id": "a20b5430",
      "metadata": {
        "id": "a20b5430",
        "outputId": "c26ca5bc-9475-453c-cc4b-5e8558ff91b6"
      },
      "outputs": [
        {
          "data": {
            "text/plain": [
              "8"
            ]
          },
          "execution_count": 3,
          "metadata": {},
          "output_type": "execute_result"
        }
      ],
      "source": [
        "text=\"Hello world\"\n",
        "text.find(\"r\")"
      ]
    },
    {
      "cell_type": "code",
      "execution_count": null,
      "id": "5d253a65",
      "metadata": {
        "id": "5d253a65",
        "outputId": "7d4af9e4-9cdb-46ec-8fd2-6ed9d1593d69"
      },
      "outputs": [
        {
          "data": {
            "text/plain": [
              "-1"
            ]
          },
          "execution_count": 18,
          "metadata": {},
          "output_type": "execute_result"
        }
      ],
      "source": [
        "text = \"Hello, welcome to my world.\"\n",
        "text.find(\"e\", 5, 10)\n",
        "text.find(\"q\", 5, 10)"
      ]
    },
    {
      "cell_type": "markdown",
      "id": "07af2522",
      "metadata": {
        "id": "07af2522"
      },
      "source": [
        "# upper Lower()"
      ]
    },
    {
      "cell_type": "code",
      "execution_count": null,
      "id": "ac5daa5c",
      "metadata": {
        "id": "ac5daa5c",
        "outputId": "a34a2c3b-61be-4d36-86cc-574ef7f4c73a"
      },
      "outputs": [
        {
          "data": {
            "text/plain": [
              "'HELLO, WELCOME TO MY WORLD.'"
            ]
          },
          "execution_count": 8,
          "metadata": {},
          "output_type": "execute_result"
        }
      ],
      "source": [
        "text = \"Hello, welcome to my world.\"\n",
        "text.upper()"
      ]
    },
    {
      "cell_type": "code",
      "execution_count": null,
      "id": "e0ee2476",
      "metadata": {
        "id": "e0ee2476",
        "outputId": "fd24c1a1-770b-4bc6-c601-1b043210151d"
      },
      "outputs": [
        {
          "data": {
            "text/plain": [
              "'hello, welcome to my world.'"
            ]
          },
          "execution_count": 9,
          "metadata": {},
          "output_type": "execute_result"
        }
      ],
      "source": [
        "text = \"Hello, welcome to my world.\"\n",
        "text.lower()"
      ]
    },
    {
      "cell_type": "markdown",
      "id": "f190047c",
      "metadata": {
        "id": "f190047c"
      },
      "source": [
        "# index()"
      ]
    },
    {
      "cell_type": "code",
      "execution_count": null,
      "id": "c65de1c4",
      "metadata": {
        "id": "c65de1c4",
        "outputId": "9b3ae1ce-0026-413b-a0fe-f4c14016645c"
      },
      "outputs": [
        {
          "data": {
            "text/plain": [
              "1"
            ]
          },
          "execution_count": 15,
          "metadata": {},
          "output_type": "execute_result"
        }
      ],
      "source": [
        "text = \"Hello, welcome to my world.\"\n",
        "text.index(\"e\")"
      ]
    },
    {
      "cell_type": "markdown",
      "id": "81a95be5",
      "metadata": {
        "id": "81a95be5"
      },
      "source": [
        "# count()"
      ]
    },
    {
      "cell_type": "code",
      "execution_count": null,
      "id": "3444ea9d",
      "metadata": {
        "id": "3444ea9d",
        "outputId": "afabe424-8394-4511-fdc7-5ead2f62f4c1"
      },
      "outputs": [
        {
          "data": {
            "text/plain": [
              "5"
            ]
          },
          "execution_count": 1,
          "metadata": {},
          "output_type": "execute_result"
        }
      ],
      "source": [
        "text = \"Hello, welcome welcome to my world.\" # count the occurence of substring\n",
        "text.count(\"l\")"
      ]
    },
    {
      "cell_type": "markdown",
      "id": "57d6c560",
      "metadata": {
        "id": "57d6c560"
      },
      "source": [
        "# join()"
      ]
    },
    {
      "cell_type": "code",
      "execution_count": null,
      "id": "75696d31",
      "metadata": {
        "id": "75696d31",
        "outputId": "5ad0ce5d-c2fd-4965-c822-22c2c87e99c2"
      },
      "outputs": [
        {
          "data": {
            "text/plain": [
              "'Hello welcome to my world'"
            ]
          },
          "execution_count": 25,
          "metadata": {},
          "output_type": "execute_result"
        }
      ],
      "source": [
        "text=[\"Hello\",'welcome','to','my','world']\n",
        "my_string=\" \".join(text)\n",
        "my_string"
      ]
    },
    {
      "cell_type": "markdown",
      "id": "1d12b4f5",
      "metadata": {
        "id": "1d12b4f5"
      },
      "source": [
        "# isnum()"
      ]
    },
    {
      "cell_type": "code",
      "execution_count": null,
      "id": "81e0ecc3",
      "metadata": {
        "id": "81e0ecc3",
        "outputId": "9dbeaa7a-af27-4ebd-851d-2820cf623624"
      },
      "outputs": [
        {
          "data": {
            "text/plain": [
              "True"
            ]
          },
          "execution_count": 4,
          "metadata": {},
          "output_type": "execute_result"
        }
      ],
      "source": [
        "text=\"1\"\n",
        "text.isnumeric()"
      ]
    },
    {
      "cell_type": "code",
      "execution_count": null,
      "id": "9823d541",
      "metadata": {
        "id": "9823d541",
        "outputId": "277f8d83-fa11-46ad-f090-2fcb6186a3ab"
      },
      "outputs": [
        {
          "data": {
            "text/plain": [
              "False"
            ]
          },
          "execution_count": 30,
          "metadata": {},
          "output_type": "execute_result"
        }
      ],
      "source": [
        "text=\" hello world 12 why 344 happened2\"\n",
        "text.isnumeric()"
      ]
    },
    {
      "cell_type": "markdown",
      "id": "d731321b",
      "metadata": {
        "id": "d731321b"
      },
      "source": [
        "# isalnum()"
      ]
    },
    {
      "cell_type": "code",
      "execution_count": null,
      "id": "c1ddacb9",
      "metadata": {
        "id": "c1ddacb9",
        "outputId": "26c5c471-879d-4ca0-983e-d6f3cc3f9cb7"
      },
      "outputs": [
        {
          "data": {
            "text/plain": [
              "False"
            ]
          },
          "execution_count": 2,
          "metadata": {},
          "output_type": "execute_result"
        }
      ],
      "source": [
        "text=\" hello world 12 why 344 happened2\"\n",
        "text.isalnum()"
      ]
    },
    {
      "cell_type": "markdown",
      "id": "4847c66e",
      "metadata": {
        "id": "4847c66e"
      },
      "source": [
        "# split()\n",
        "it convert into list"
      ]
    },
    {
      "cell_type": "code",
      "execution_count": null,
      "id": "22862416",
      "metadata": {
        "id": "22862416",
        "outputId": "91545375-90a9-4f60-cbe5-1dfe5da742c6"
      },
      "outputs": [
        {
          "data": {
            "text/plain": [
              "['Hello,', 'welcome', 'welcome', 'to', 'my', 'world.']"
            ]
          },
          "execution_count": 35,
          "metadata": {},
          "output_type": "execute_result"
        }
      ],
      "source": [
        "text = \"Hello, welcome welcome to my world.\"\n",
        "text.split()"
      ]
    },
    {
      "cell_type": "code",
      "execution_count": null,
      "id": "d6e63fe5",
      "metadata": {
        "id": "d6e63fe5",
        "outputId": "ab1c492c-b2eb-46f2-a4a1-77559d13b1ea"
      },
      "outputs": [
        {
          "data": {
            "text/plain": [
              "['apple', 'banana', 'cherry', 'orange']"
            ]
          },
          "execution_count": 36,
          "metadata": {},
          "output_type": "execute_result"
        }
      ],
      "source": [
        "text = \"apple*banana*cherry*orange\"\n",
        "text.split('*')\n"
      ]
    },
    {
      "cell_type": "code",
      "execution_count": null,
      "id": "d579932a",
      "metadata": {
        "id": "d579932a",
        "outputId": "07ce57ec-cba4-45e6-85d2-ffe578465f32"
      },
      "outputs": [
        {
          "data": {
            "text/plain": [
              "['apple', 'banana*cherry*orange']"
            ]
          },
          "execution_count": 37,
          "metadata": {},
          "output_type": "execute_result"
        }
      ],
      "source": [
        "text = \"apple*banana*cherry*orange\"\n",
        "text.split('*',1)"
      ]
    },
    {
      "cell_type": "markdown",
      "id": "6c779101",
      "metadata": {
        "id": "6c779101"
      },
      "source": [
        "# Replace()"
      ]
    },
    {
      "cell_type": "code",
      "execution_count": null,
      "id": "43b9e76b",
      "metadata": {
        "id": "43b9e76b",
        "outputId": "9bde8565-ae1d-4f4e-bafa-5770f8229fa1"
      },
      "outputs": [
        {
          "data": {
            "text/plain": [
              "'I like apples'"
            ]
          },
          "execution_count": 39,
          "metadata": {},
          "output_type": "execute_result"
        }
      ],
      "source": [
        "text = \"I like bananas\"\n",
        "text.replace(\"bananas\", \"apples\")\n"
      ]
    },
    {
      "cell_type": "code",
      "execution_count": null,
      "id": "6f9f2929",
      "metadata": {
        "id": "6f9f2929",
        "outputId": "5fdab119-7ff0-456c-a0e3-2c7d1b3922e4"
      },
      "outputs": [
        {
          "data": {
            "text/plain": [
              "'three three was a race horse, two two was one too.'"
            ]
          },
          "execution_count": 40,
          "metadata": {},
          "output_type": "execute_result"
        }
      ],
      "source": [
        "text = \"one one was a race horse, two two was one too.\"\n",
        "text.replace(\"one\", \"three\", 2)"
      ]
    },
    {
      "cell_type": "markdown",
      "id": "adc2c71b",
      "metadata": {
        "id": "adc2c71b"
      },
      "source": [
        "# Random Library"
      ]
    },
    {
      "cell_type": "code",
      "execution_count": null,
      "id": "796e8a66",
      "metadata": {
        "id": "796e8a66",
        "outputId": "43c1c55b-3b75-461c-e924-7f05cf0111f9"
      },
      "outputs": [
        {
          "name": "stdout",
          "output_type": "stream",
          "text": [
            "0.15801274128377363\n"
          ]
        }
      ],
      "source": [
        "import random\n",
        "print(random.random())"
      ]
    },
    {
      "cell_type": "code",
      "execution_count": null,
      "id": "e70a3a58",
      "metadata": {
        "id": "e70a3a58",
        "outputId": "3fbb3bb3-64e1-48e4-8cad-6bdfa9bddb94"
      },
      "outputs": [
        {
          "name": "stdout",
          "output_type": "stream",
          "text": [
            "7\n"
          ]
        }
      ],
      "source": [
        "import random\n",
        "\n",
        "print(random.randint(3.0, 10.0)) #only takes integer value"
      ]
    },
    {
      "cell_type": "code",
      "execution_count": null,
      "id": "2f0bbe7d",
      "metadata": {
        "id": "2f0bbe7d",
        "outputId": "5845002c-19e9-4a2a-9544-92bf0bf3767d"
      },
      "outputs": [
        {
          "name": "stdout",
          "output_type": "stream",
          "text": [
            "['Mango', 'Angle']\n"
          ]
        }
      ],
      "source": [
        "#sample return specific number of random values\n",
        "my_list=['Angle','Apple','Kivi','Pineapple','Apricot','Mango','Watermelon','Banana','Grapes']\n",
        "print(random.sample(my_list,k=2))"
      ]
    },
    {
      "cell_type": "code",
      "execution_count": null,
      "id": "fd4650bc",
      "metadata": {
        "id": "fd4650bc",
        "outputId": "de62b85a-27f0-499c-9223-26e44308ea64"
      },
      "outputs": [
        {
          "name": "stdout",
          "output_type": "stream",
          "text": [
            "8\n"
          ]
        }
      ],
      "source": [
        "import random\n",
        "\n",
        "print(random.randrange(3, 9))"
      ]
    },
    {
      "cell_type": "code",
      "execution_count": null,
      "id": "92e0766b",
      "metadata": {
        "id": "92e0766b",
        "outputId": "46e8b606-6363-4f7f-a8e9-bc47db032ac6"
      },
      "outputs": [
        {
          "name": "stdout",
          "output_type": "stream",
          "text": [
            "['Angle', 'Apple', 'Mango', 'Watermelon', 'Grapes', 'Banana', 'Apricot', 'Kivi', 'Pineapple']\n"
          ]
        }
      ],
      "source": [
        "my_list=['Angle','Apple','Kivi','Pineapple','Apricot','Mango','Watermelon','Banana','Grapes']\n",
        "random.shuffle(my_list)\n",
        "print(my_list)"
      ]
    },
    {
      "cell_type": "code",
      "execution_count": null,
      "id": "6c13c926",
      "metadata": {
        "id": "6c13c926"
      },
      "outputs": [],
      "source": []
    },
    {
      "cell_type": "markdown",
      "id": "565e5f24",
      "metadata": {
        "id": "565e5f24"
      },
      "source": [
        "# Math"
      ]
    },
    {
      "cell_type": "code",
      "execution_count": null,
      "id": "dde21565",
      "metadata": {
        "id": "dde21565"
      },
      "outputs": [],
      "source": [
        "from math import pi,sqrt"
      ]
    },
    {
      "cell_type": "code",
      "execution_count": null,
      "id": "7ad301bd",
      "metadata": {
        "id": "7ad301bd",
        "outputId": "2f753ed9-d38b-40de-a974-4808c16b2fa7"
      },
      "outputs": [
        {
          "name": "stdout",
          "output_type": "stream",
          "text": [
            "3.141592653589793\n"
          ]
        }
      ],
      "source": [
        "print(pi)"
      ]
    },
    {
      "cell_type": "code",
      "execution_count": null,
      "id": "441a4040",
      "metadata": {
        "id": "441a4040",
        "outputId": "727bb9b3-6f07-4964-f8ae-c303b7fd8698"
      },
      "outputs": [
        {
          "name": "stdout",
          "output_type": "stream",
          "text": [
            "3.0\n"
          ]
        }
      ],
      "source": [
        "print(sqrt(9))"
      ]
    },
    {
      "cell_type": "code",
      "execution_count": null,
      "id": "72b5a49d",
      "metadata": {
        "id": "72b5a49d",
        "outputId": "7f83a543-7b6f-4d84-e11f-f55b08fb363c"
      },
      "outputs": [
        {
          "name": "stdout",
          "output_type": "stream",
          "text": [
            "729.0\n"
          ]
        }
      ],
      "source": [
        "import math\n",
        "print(math.pow(9, 3))"
      ]
    },
    {
      "cell_type": "code",
      "execution_count": null,
      "id": "61b86888",
      "metadata": {
        "id": "61b86888",
        "outputId": "a0a84306-23cb-4058-d83c-9871fa65ac6d"
      },
      "outputs": [
        {
          "name": "stdout",
          "output_type": "stream",
          "text": [
            "5040\n"
          ]
        }
      ],
      "source": [
        "print(math.factorial(7))"
      ]
    },
    {
      "cell_type": "code",
      "execution_count": null,
      "id": "ed49b2da",
      "metadata": {
        "id": "ed49b2da",
        "outputId": "80ea38c2-1c74-49f4-838a-4edf60bd7ba5"
      },
      "outputs": [
        {
          "name": "stdout",
          "output_type": "stream",
          "text": [
            "190.0\n"
          ]
        }
      ],
      "source": [
        "print(math.fabs(-190))"
      ]
    },
    {
      "cell_type": "code",
      "execution_count": null,
      "id": "f4388488",
      "metadata": {
        "id": "f4388488",
        "outputId": "3a74a4b5-7ee2-402e-8daf-f2051385bf1e"
      },
      "outputs": [
        {
          "name": "stdout",
          "output_type": "stream",
          "text": [
            "1\n"
          ]
        }
      ],
      "source": [
        "print(math.floor(1.0))"
      ]
    },
    {
      "cell_type": "code",
      "execution_count": null,
      "id": "70810b0e",
      "metadata": {
        "id": "70810b0e",
        "outputId": "b81de49c-1737-47f9-9fe1-cf1e7800dda1"
      },
      "outputs": [
        {
          "data": {
            "text/plain": [
              "1"
            ]
          },
          "execution_count": 59,
          "metadata": {},
          "output_type": "execute_result"
        }
      ],
      "source": [
        "math.floor(1.9)"
      ]
    },
    {
      "cell_type": "code",
      "execution_count": null,
      "id": "e3c1ed5a",
      "metadata": {
        "id": "e3c1ed5a",
        "outputId": "6c2ff78d-bbca-4024-fe32-622620a03144"
      },
      "outputs": [
        {
          "data": {
            "text/plain": [
              "2"
            ]
          },
          "execution_count": 21,
          "metadata": {},
          "output_type": "execute_result"
        }
      ],
      "source": [
        "math.ceil(1.9)"
      ]
    },
    {
      "cell_type": "code",
      "execution_count": null,
      "id": "3dbbe4fb",
      "metadata": {
        "id": "3dbbe4fb",
        "outputId": "c3fc5450-67d2-4f1a-f847-e27c9079f987"
      },
      "outputs": [
        {
          "data": {
            "text/plain": [
              "-0.5365729180004349"
            ]
          },
          "execution_count": 22,
          "metadata": {},
          "output_type": "execute_result"
        }
      ],
      "source": [
        "math.sin(12)"
      ]
    },
    {
      "cell_type": "code",
      "execution_count": null,
      "id": "5257139c",
      "metadata": {
        "id": "5257139c",
        "outputId": "82235db7-3f99-479c-e3e6-42b0e6fb34c9"
      },
      "outputs": [
        {
          "data": {
            "text/plain": [
              "1.0"
            ]
          },
          "execution_count": 26,
          "metadata": {},
          "output_type": "execute_result"
        }
      ],
      "source": [
        "math.cos(0)"
      ]
    },
    {
      "cell_type": "code",
      "execution_count": null,
      "id": "06de05b1",
      "metadata": {
        "id": "06de05b1",
        "outputId": "59e11b25-ff4c-4a33-fab1-63fe14e5de3d"
      },
      "outputs": [
        {
          "data": {
            "text/plain": [
              "-6.405331196646276"
            ]
          },
          "execution_count": 24,
          "metadata": {},
          "output_type": "execute_result"
        }
      ],
      "source": [
        "math.tan(30)"
      ]
    },
    {
      "cell_type": "code",
      "execution_count": null,
      "id": "a0665524",
      "metadata": {
        "id": "a0665524",
        "outputId": "87f600ca-b0e4-4f86-fb17-eccc1db41b0d"
      },
      "outputs": [
        {
          "name": "stdout",
          "output_type": "stream",
          "text": [
            "2.0\n"
          ]
        }
      ],
      "source": [
        "p = [3]\n",
        "q = [1]\n",
        "print (math.dist(p, q))"
      ]
    },
    {
      "cell_type": "code",
      "execution_count": null,
      "id": "8f9b6813",
      "metadata": {
        "id": "8f9b6813",
        "outputId": "e2068439-e9b9-4723-be99-ef63b3484914"
      },
      "outputs": [
        {
          "name": "stdout",
          "output_type": "stream",
          "text": [
            "9.486832980505138\n"
          ]
        }
      ],
      "source": [
        "p = [3, 3]\n",
        "q = [6, 12]\n",
        "\n",
        "# Calculate Euclidean distance\n",
        "# sqrt(p-q)^2\n",
        "# d = √[(x2 – x1)2 + (y2 – y1)2].\n",
        "print (math.dist(p, q))"
      ]
    },
    {
      "cell_type": "code",
      "execution_count": null,
      "id": "aa6adafd",
      "metadata": {
        "id": "aa6adafd",
        "outputId": "563a9072-01b1-4e50-ce0e-0a56bb597bcf"
      },
      "outputs": [
        {
          "name": "stdout",
          "output_type": "stream",
          "text": [
            "2\n"
          ]
        }
      ],
      "source": []
    },
    {
      "cell_type": "code",
      "execution_count": null,
      "id": "b27dfde2",
      "metadata": {
        "id": "b27dfde2"
      },
      "outputs": [],
      "source": []
    }
  ],
  "metadata": {
    "kernelspec": {
      "display_name": "Python 3 (ipykernel)",
      "language": "python",
      "name": "python3"
    },
    "language_info": {
      "codemirror_mode": {
        "name": "ipython",
        "version": 3
      },
      "file_extension": ".py",
      "mimetype": "text/x-python",
      "name": "python",
      "nbconvert_exporter": "python",
      "pygments_lexer": "ipython3",
      "version": "3.9.12"
    },
    "colab": {
      "provenance": []
    }
  },
  "nbformat": 4,
  "nbformat_minor": 5
}