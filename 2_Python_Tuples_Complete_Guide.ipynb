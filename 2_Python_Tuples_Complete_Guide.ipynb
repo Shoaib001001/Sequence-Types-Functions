{
 "cells": [
  {
   "cell_type": "markdown",
   "id": "943e75be",
   "metadata": {},
   "source": [
    "# 🐍 Python Tuples Complete Guide"
   ]
  },
  {
   "cell_type": "markdown",
   "id": "c6388829",
   "metadata": {},
   "source": [
    "A **tuple** is an **ordered, immutable collection** in Python. Tuples are useful when you want to store a collection of values that should not be changed."
   ]
  },
  {
   "cell_type": "markdown",
   "id": "5025c8db",
   "metadata": {},
   "source": [
    "## ✅ Key Properties of Tuples:\n",
    "- **Ordered** – Elements have a defined order and can be accessed using an index.\n",
    "- **Immutable** – Tuples cannot be changed after creation.\n",
    "- **Heterogeneous** – A tuple can store elements of different data types.\n",
    "- **Allows Duplicates** – A tuple can contain duplicate values."
   ]
  },
  {
   "cell_type": "markdown",
   "id": "cfcf61a0",
   "metadata": {},
   "source": [
    "## 📌 Creating a Tuple\n",
    "You can create a tuple using parentheses `()` or the `tuple()` constructor:"
   ]
  },
  {
   "cell_type": "code",
   "execution_count": null,
   "id": "f0a01097",
   "metadata": {},
   "outputs": [],
   "source": [
    "fruits = ('apple', 'banana', 'cherry')\n",
    "print(fruits)"
   ]
  },
  {
   "cell_type": "code",
   "execution_count": null,
   "id": "04af2818",
   "metadata": {},
   "outputs": [],
   "source": [
    "numbers = tuple([1, 2, 3, 4])\n",
    "print(numbers)"
   ]
  },
  {
   "cell_type": "markdown",
   "id": "b9a3b413",
   "metadata": {},
   "source": [
    "> **Note:** To create a tuple with a single element, add a comma after the element."
   ]
  },
  {
   "cell_type": "code",
   "execution_count": null,
   "id": "65c134cf",
   "metadata": {},
   "outputs": [],
   "source": [
    "single_element = ('apple',)\n",
    "print(single_element)\n",
    "print(type(single_element))"
   ]
  },
  {
   "cell_type": "markdown",
   "id": "1da49e50",
   "metadata": {},
   "source": [
    "## 🚀 Real-Life Example\n",
    "Storing coordinates of a point (x, y) as a tuple since they shouldn’t change:"
   ]
  },
  {
   "cell_type": "code",
   "execution_count": null,
   "id": "12333e78",
   "metadata": {},
   "outputs": [],
   "source": [
    "point = (4, 5)\n",
    "print(point)"
   ]
  },
  {
   "cell_type": "markdown",
   "id": "c8fa9fe8",
   "metadata": {},
   "source": [
    "## 1️⃣ Accessing Elements\n",
    "You can access tuple elements using **indexing** and **slicing**:"
   ]
  },
  {
   "cell_type": "code",
   "execution_count": null,
   "id": "339019fc",
   "metadata": {},
   "outputs": [],
   "source": [
    "fruits = ('apple', 'banana', 'cherry')\n",
    "print(fruits[0])  # First element\n",
    "print(fruits[-1])  # Last element"
   ]
  },
  {
   "cell_type": "code",
   "execution_count": null,
   "id": "6357e101",
   "metadata": {},
   "outputs": [],
   "source": [
    "fruits = ('apple', 'banana', 'cherry', 'orange')\n",
    "print(fruits[1:3])  # Slicing"
   ]
  },
  {
   "cell_type": "markdown",
   "id": "ba86985c",
   "metadata": {},
   "source": [
    "## 2️⃣ Length of a Tuple\n",
    "Use `len()` to find the number of elements in a tuple:"
   ]
  },
  {
   "cell_type": "code",
   "execution_count": null,
   "id": "ba2402e3",
   "metadata": {},
   "outputs": [],
   "source": [
    "fruits = ('apple', 'banana', 'cherry')\n",
    "print(len(fruits))"
   ]
  },
  {
   "cell_type": "markdown",
   "id": "9662a149",
   "metadata": {},
   "source": [
    "## 3️⃣ Tuple Concatenation and Repetition\n",
    "- Use `+` to combine two tuples.\n",
    "- Use `*` to repeat a tuple."
   ]
  },
  {
   "cell_type": "code",
   "execution_count": null,
   "id": "1b9e7d49",
   "metadata": {},
   "outputs": [],
   "source": [
    "A = (1, 2, 3)\n",
    "B = (4, 5)\n",
    "print(A + B)  # Concatenation\n",
    "print(A * 2)  # Repetition"
   ]
  },
  {
   "cell_type": "markdown",
   "id": "8a04e22d",
   "metadata": {},
   "source": [
    "## 4️⃣ Tuple Unpacking\n",
    "You can unpack tuple elements into variables:"
   ]
  },
  {
   "cell_type": "code",
   "execution_count": null,
   "id": "3058e74c",
   "metadata": {},
   "outputs": [],
   "source": [
    "coordinates = (10, 20)\n",
    "x, y = coordinates\n",
    "print(x)\n",
    "print(y)"
   ]
  },
  {
   "cell_type": "markdown",
   "id": "7b879587",
   "metadata": {},
   "source": [
    "> **Note:** The number of variables must match the number of tuple elements."
   ]
  },
  {
   "cell_type": "markdown",
   "id": "08ff4530",
   "metadata": {},
   "source": [
    "## 5️⃣ Nesting Tuples\n",
    "Tuples can contain other tuples:"
   ]
  },
  {
   "cell_type": "code",
   "execution_count": null,
   "id": "704ec2fa",
   "metadata": {},
   "outputs": [],
   "source": [
    "nested = ((1, 2), (3, 4), (5, 6))\n",
    "print(nested[0])\n",
    "print(nested[0][1])"
   ]
  },
  {
   "cell_type": "markdown",
   "id": "a6f278e5",
   "metadata": {},
   "source": [
    "## 6️⃣ Tuple Methods\n",
    "- `count()` – Returns the number of occurrences of a value.\n",
    "- `index()` – Returns the index of the first occurrence of a value."
   ]
  },
  {
   "cell_type": "code",
   "execution_count": null,
   "id": "6137406a",
   "metadata": {},
   "outputs": [],
   "source": [
    "fruits = ('apple', 'banana', 'cherry', 'apple')\n",
    "print(fruits.count('apple'))\n",
    "print(fruits.index('banana'))"
   ]
  },
  {
   "cell_type": "markdown",
   "id": "25b83c2a",
   "metadata": {},
   "source": [
    "## 7️⃣ Checking Membership\n",
    "Use `in` and `not in` to check if an element exists in a tuple:"
   ]
  },
  {
   "cell_type": "code",
   "execution_count": null,
   "id": "4e2c1db1",
   "metadata": {},
   "outputs": [],
   "source": [
    "fruits = ('apple', 'banana', 'cherry')\n",
    "print('apple' in fruits)\n",
    "print('mango' not in fruits)"
   ]
  },
  {
   "cell_type": "markdown",
   "id": "57e77f78",
   "metadata": {},
   "source": [
    "## 8️⃣ Sorting a Tuple\n",
    "You can't sort a tuple directly, but you can create a sorted list from it:"
   ]
  },
  {
   "cell_type": "code",
   "execution_count": null,
   "id": "ef32e576",
   "metadata": {},
   "outputs": [],
   "source": [
    "numbers = (3, 1, 4, 2)\n",
    "sorted_numbers = sorted(numbers)\n",
    "print(sorted_numbers)"
   ]
  },
  {
   "cell_type": "markdown",
   "id": "5d22feec",
   "metadata": {},
   "source": [
    "## 9️⃣ Convert Tuple to List and Vice Versa\n",
    "You can convert a tuple to a list and back:"
   ]
  },
  {
   "cell_type": "code",
   "execution_count": null,
   "id": "f2dd4194",
   "metadata": {},
   "outputs": [],
   "source": [
    "fruits = ('apple', 'banana', 'cherry')\n",
    "fruits_list = list(fruits)\n",
    "print(fruits_list)\n",
    "fruits_tuple = tuple(fruits_list)\n",
    "print(fruits_tuple)"
   ]
  },
  {
   "cell_type": "markdown",
   "id": "9521fbc1",
   "metadata": {},
   "source": [
    "## ✅ Summary Table\n",
    "| Operation | Example | Result |\n",
    "|-----------|---------|--------|\n",
    "| Create tuple | `A = (1, 2, 3)` | Creates a tuple |\n",
    "| Access elements | `A[0]` | First element |\n",
    "| Slicing | `A[1:3]` | Slice tuple |\n",
    "| Length | `len(A)` | Number of elements |\n",
    "| Concatenation | `A + B` | Combine tuples |\n",
    "| Repetition | `A * 2` | Repeat tuple |\n",
    "| Unpacking | `x, y = A` | Unpack elements |\n",
    "| Nesting | `((1, 2), (3, 4))` | Tuple of tuples |\n",
    "| Count | `A.count(2)` | Number of occurrences |\n",
    "| Index | `A.index(3)` | First index of value |\n",
    "| Convert to list | `list(A)` | Converts to list |\n"
   ]
  }
 ],
 "metadata": {},
 "nbformat": 4,
 "nbformat_minor": 5
}
